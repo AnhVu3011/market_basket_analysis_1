{
 "cells": [
  {
   "cell_type": "code",
   "execution_count": 1,
   "source": [
    "# import necessary libraries\r\n",
    "\r\n",
    "import pandas as pd\r\n",
    "import numpy as np\r\n",
    "from apyori import apriori"
   ],
  {
   "cell_type": "code",
   "execution_count": null,
   "source": [
    "# read the source file\r\n",
    "\r\n",
    "category = pd.read_csv(\"categories.csv\", header = None)\r\n",
    "category.head()"
   ],
   "outputs": [],
   "metadata": {}
  },
  {
   "cell_type": "code",
   "execution_count": null,
   "source": [
    "# replace empty value with 0\r\n",
    "\r\n",
    "category.fillna(0, inplace = True)"
   ],
   "outputs": [],
   "metadata": {}
  },
  {
   "cell_type": "code",
   "execution_count": null,
   "source": [
    "# convert dataframe into list format for apriori algorithm\r\n",
    "\r\n",
    "records = []\r\n",
    "\r\n",
    "for i in range(0, len(category)):\r\n",
    "    records.append([str(category.values[i, j]) for j in range(0, len(category.columns)) if str(category.values[i, j]) != '0'])"
   ],
   "outputs": [],
   "metadata": {}
  },
  {
   "cell_type": "code",
   "execution_count": null,
   "source": [
    "records[0]"
   ],
   "outputs": [],
   "metadata": {}
  },
  {
   "cell_type": "code",
   "execution_count": null,
   "source": [
    "# apriori algorithm\r\n",
    "\r\n",
    "rules = apriori(records, min_support = 0.01) # you can set max_length argument \r\n",
    "results = list(rules)"
   ],
   "outputs": [],
   "metadata": {}
  },
  {
   "cell_type": "code",
   "execution_count": null,
   "source": [
    "results = filter(lambda x: len(x.items) > 1, results)"
   ],
   "outputs": [],
   "metadata": {}
  },
  {
   "cell_type": "code",
   "execution_count": null,
   "source": [
    "df_results = pd.DataFrame(results)\r\n",
    "df_results.head()"
   ],
   "outputs": [],
   "metadata": {}
  },
  {
   "cell_type": "code",
   "execution_count": null,
   "source": [
    "# keep support in a separate data frame so we can use later\r\n",
    "\r\n",
    "support = df_results.support"
   ],
   "outputs": [],
   "metadata": {}
  },
  {
   "cell_type": "code",
   "execution_count": null,
   "source": [
    "first_values = []\r\n",
    "second_values = []\r\n",
    "\r\n",
    "for i in range(df_results.shape[0]):\r\n",
    "    single_list = df_results['ordered_statistics'][i][0]\r\n",
    "    first_values.append(list(single_list[0]))\r\n",
    "    second_values.append(list(single_list[1]))"
   ],
   "outputs": [],
   "metadata": {}
  },
  {
   "cell_type": "code",
   "execution_count": null,
   "source": [
    "# convert all four list into dataframe for further operation \n",
    "\n",
    "lhs = pd.DataFrame(first_values)\n",
    "rhs = pd.DataFrame(second_values)"
   ],
   "outputs": [],
   "metadata": {}
  },
  {
   "cell_type": "code",
   "execution_count": null,
   "source": [
    "# concat all list together in a single dataframe\n",
    "\n",
    "df_final = pd.concat([support,lhs, rhs], axis=1)\n",
    "df_final.head()"
   ],
   "outputs": [],
   "metadata": {}
  },
  {
   "cell_type": "code",
   "execution_count": null,
   "source": [
    "df_final.fillna(\" \", inplace = True)"
   ],
   "outputs": [],
   "metadata": {}
  },
  {
   "cell_type": "code",
   "execution_count": null,
   "source": [
    "df_final.head()"
   ],
   "outputs": [],
   "metadata": {}
  },
  {
   "cell_type": "code",
   "execution_count": null,
   "source": [
    "df_final[\"support\"] = round(df_final[\"support\"] * 77185)\n",
    "df_final.head()"
   ],
   "outputs": [],
   "metadata": {}
  },
  {
   "cell_type": "code",
   "execution_count": null,
   "source": [
    "df_final.to_csv(\"patterns.txt\", sep = \";\", index = False, header = False)"
   ],
   "outputs": [],
   "metadata": {}
  }
 ],
 "metadata": {
  "kernelspec": {
   "name": "python3",
   "display_name": "Python 3.8.3 64-bit ('base': conda)"
  },
  "language_info": {
   "codemirror_mode": {
    "name": "ipython",
    "version": 3
   },
   "file_extension": ".py",
   "mimetype": "text/x-python",
   "name": "python",
   "nbconvert_exporter": "python",
   "pygments_lexer": "ipython3",
   "version": "3.8.3"
  },
  "interpreter": {
   "hash": "cd8ac7ed5329ff1f59a8356dfddf06d159cf18414acbfd7b13d1d5cd1cbb5d7d"
  }
 },
 "nbformat": 4,
 "nbformat_minor": 4
}
